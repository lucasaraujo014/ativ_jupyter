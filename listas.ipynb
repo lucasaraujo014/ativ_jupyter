{
 "cells": [
  {
   "cell_type": "markdown",
   "metadata": {},
   "source": [
    "# Coleções \n",
    "\n",
    "## listas"
   ]
  },
  {
   "cell_type": "code",
   "execution_count": 26,
   "metadata": {},
   "outputs": [
    {
     "name": "stdout",
     "output_type": "stream",
     "text": [
      "['banana ', 'laranja', 'uva', 'pera', 'melancia']\n"
     ]
    }
   ],
   "source": [
    "frutas = ['banana ', 'laranja', 'uva', 'pera', 'melancia' ]\n",
    "print(frutas)"
   ]
  },
  {
   "cell_type": "code",
   "execution_count": null,
   "metadata": {},
   "outputs": [],
   "source": [
    "#lista de inteiros\n",
    "numeros = {1,2,3,4,5}\n",
    "print(numeros)"
   ]
  },
  {
   "cell_type": "code",
   "execution_count": 5,
   "metadata": {},
   "outputs": [
    {
     "name": "stdout",
     "output_type": "stream",
     "text": [
      "[[1, 2, 3], [4, 5, 6], [7, 8, 9]]\n"
     ]
    }
   ],
   "source": [
    "# lisra de listas\n",
    "lista = [[1,2,3],[4,5,6],[7,8,9]]\n",
    "print(lista)"
   ]
  },
  {
   "cell_type": "code",
   "execution_count": 4,
   "metadata": {},
   "outputs": [
    {
     "name": "stdout",
     "output_type": "stream",
     "text": [
      "[1, 'banana', 2.5, True]\n"
     ]
    }
   ],
   "source": [
    "#$lista misturada\n",
    "misturada = [1, \"banana\", 2.5, True]\n",
    "print(misturada)"
   ]
  },
  {
   "cell_type": "code",
   "execution_count": 9,
   "metadata": {},
   "outputs": [
    {
     "name": "stdout",
     "output_type": "stream",
     "text": [
      "5\n"
     ]
    }
   ],
   "source": [
    "#tamando ga lista \n",
    "print(len(frutas))\n"
   ]
  },
  {
   "cell_type": "code",
   "execution_count": 16,
   "metadata": {},
   "outputs": [
    {
     "name": "stdout",
     "output_type": "stream",
     "text": [
      "['banana ']\n"
     ]
    }
   ],
   "source": [
    "print(frutas[:1])"
   ]
  },
  {
   "cell_type": "code",
   "execution_count": 30,
   "metadata": {},
   "outputs": [
    {
     "name": "stdout",
     "output_type": "stream",
     "text": [
      "['banana ', 'laranja', 'morango', 'uva', 'jaca', 'melancia', 'abacaxi', 'jabuticaba']\n"
     ]
    }
   ],
   "source": [
    "frutas.append('abacaxi')\n",
    "frutas.append('jabuticaba')\n",
    "\n",
    "print(frutas)"
   ]
  },
  {
   "cell_type": "code",
   "execution_count": 29,
   "metadata": {},
   "outputs": [
    {
     "name": "stdout",
     "output_type": "stream",
     "text": [
      "['banana ', 'laranja', 'morango', 'uva', 'jaca', 'melancia']\n"
     ]
    }
   ],
   "source": [
    "frutas.insert(2,'morango')\n",
    "print(frutas)"
   ]
  },
  {
   "cell_type": "code",
   "execution_count": 28,
   "metadata": {},
   "outputs": [
    {
     "name": "stdout",
     "output_type": "stream",
     "text": [
      "['banana ', 'laranja', 'uva', 'jaca', 'melancia']\n"
     ]
    }
   ],
   "source": [
    "frutas[3] = 'jaca'\n",
    "print(frutas)"
   ]
  },
  {
   "cell_type": "code",
   "execution_count": 31,
   "metadata": {},
   "outputs": [
    {
     "name": "stdout",
     "output_type": "stream",
     "text": [
      "Melancia removida\n",
      "['banana ', 'laranja', 'morango', 'uva', 'jaca', 'abacaxi', 'jabuticaba']\n"
     ]
    }
   ],
   "source": [
    "try:\n",
    "    frutas.remove('melancia')\n",
    "    print(\"Melancia removida\")\n",
    "except ValueError:\n",
    "    print('Elemento não encontrado')\n",
    "print(frutas)"
   ]
  },
  {
   "cell_type": "code",
   "execution_count": 32,
   "metadata": {},
   "outputs": [
    {
     "name": "stdout",
     "output_type": "stream",
     "text": [
      "['banana ', 'laranja', 'morango', 'uva', 'jaca', 'abacaxi', 'jabuticaba', 'romã', 'caju', 'graviola']\n"
     ]
    }
   ],
   "source": [
    "frutas2 = ['romã', 'caju', 'graviola']\n",
    "frutas.extend(frutas2)\n",
    "print(frutas)"
   ]
  },
  {
   "cell_type": "code",
   "execution_count": 34,
   "metadata": {},
   "outputs": [
    {
     "name": "stdout",
     "output_type": "stream",
     "text": [
      "['banana ', 'laranja', 'morango', 'uva', 'jaca', 'abacaxi', 'jabuticaba', 'romã', 'caju', 'graviola', 'manga', 'goiaba', 'caqui', 'manga', 'goiaba', 'caqui']\n"
     ]
    }
   ],
   "source": [
    "tupla = ('manga', 'goiaba', 'caqui' )\n",
    "frutas.extend(tupla)\n",
    "print(frutas)\n",
    "\n"
   ]
  },
  {
   "cell_type": "code",
   "execution_count": 35,
   "metadata": {},
   "outputs": [
    {
     "name": "stdout",
     "output_type": "stream",
     "text": [
      "['banana ', 'laranja', 'morango', 'uva', 'jaca', 'abacaxi', 'jabuticaba', 'romã', 'caju', 'graviola', 'manga', 'goiaba', 'caqui', 'manga', 'goiaba']\n"
     ]
    }
   ],
   "source": [
    "frutas.pop()\n",
    "print(frutas)"
   ]
  },
  {
   "cell_type": "code",
   "execution_count": 36,
   "metadata": {},
   "outputs": [
    {
     "name": "stdout",
     "output_type": "stream",
     "text": [
      "['banana ', 'laranja', 'morango', 'uva', 'abacaxi', 'jabuticaba', 'romã', 'caju', 'graviola', 'manga', 'goiaba', 'caqui', 'manga', 'goiaba']\n"
     ]
    }
   ],
   "source": [
    "frutas.pop(4)\n",
    "print(frutas)"
   ]
  },
  {
   "cell_type": "code",
   "execution_count": 37,
   "metadata": {},
   "outputs": [
    {
     "name": "stdout",
     "output_type": "stream",
     "text": [
      "['banana ', 'laranja', 'morango', 'uva', 'jabuticaba', 'romã', 'caju', 'graviola', 'manga', 'goiaba', 'caqui', 'manga', 'goiaba']\n"
     ]
    }
   ],
   "source": [
    "del frutas[4]\n",
    "print(frutas)"
   ]
  },
  {
   "cell_type": "code",
   "execution_count": 38,
   "metadata": {},
   "outputs": [
    {
     "name": "stdout",
     "output_type": "stream",
     "text": [
      "[]\n"
     ]
    }
   ],
   "source": [
    "frutas.clear()\n",
    "print(frutas)"
   ]
  },
  {
   "cell_type": "code",
   "execution_count": 39,
   "metadata": {},
   "outputs": [],
   "source": [
    "legumes = ['cenoura','beterraba','abobora', 'batata']"
   ]
  },
  {
   "cell_type": "code",
   "execution_count": 40,
   "metadata": {},
   "outputs": [
    {
     "name": "stdout",
     "output_type": "stream",
     "text": [
      "cenoura\n",
      "beterraba\n",
      "abobora\n",
      "batata\n"
     ]
    }
   ],
   "source": [
    "for legume in legumes:\n",
    "    print(legume)"
   ]
  },
  {
   "cell_type": "code",
   "execution_count": 41,
   "metadata": {},
   "outputs": [
    {
     "name": "stdout",
     "output_type": "stream",
     "text": [
      "cenoura\n",
      "beterraba\n",
      "abobora\n",
      "batata\n"
     ]
    },
    {
     "data": {
      "text/plain": [
       "[None, None, None, None]"
      ]
     },
     "execution_count": 41,
     "metadata": {},
     "output_type": "execute_result"
    }
   ],
   "source": [
    "[print(legume) for legume in legumes]"
   ]
  },
  {
   "cell_type": "code",
   "execution_count": 42,
   "metadata": {},
   "outputs": [
    {
     "name": "stdout",
     "output_type": "stream",
     "text": [
      "Números pares: [0, 2, 4, 6, 8]\n",
      "Números impares: [1, 3, 5, 7, 9]\n"
     ]
    }
   ],
   "source": [
    "numeros = (0,1,2,3,4,5,6,7,8,9)\n",
    "pares = [numero for numero in numeros if numero % 2 == 0]\n",
    "impares = [numero for numero in numeros if numero % 2 != 0]\n",
    "\n",
    "print(f'Números pares: {pares}')\n",
    "print(f'Números impares: {impares}')\n"
   ]
  },
  {
   "cell_type": "code",
   "execution_count": 43,
   "metadata": {},
   "outputs": [
    {
     "name": "stdout",
     "output_type": "stream",
     "text": [
      "['cenoura', 'beterraba', 'abobora', 'batata']\n"
     ]
    }
   ],
   "source": [
    "print(legumes)"
   ]
  },
  {
   "cell_type": "code",
   "execution_count": 44,
   "metadata": {},
   "outputs": [
    {
     "name": "stdout",
     "output_type": "stream",
     "text": [
      "['abobora', 'batata', 'beterraba', 'cenoura']\n"
     ]
    }
   ],
   "source": [
    "legumes.sort()\n",
    "print(legumes)"
   ]
  },
  {
   "cell_type": "code",
   "execution_count": 45,
   "metadata": {},
   "outputs": [
    {
     "name": "stdout",
     "output_type": "stream",
     "text": [
      "['cenoura', 'beterraba', 'batata', 'abobora']\n"
     ]
    }
   ],
   "source": [
    "legumes.sort(reverse=True)\n",
    "print(legumes)"
   ]
  },
  {
   "cell_type": "code",
   "execution_count": null,
   "metadata": {},
   "outputs": [],
   "source": []
  }
 ],
 "metadata": {
  "kernelspec": {
   "display_name": "Python 3",
   "language": "python",
   "name": "python3"
  },
  "language_info": {
   "codemirror_mode": {
    "name": "ipython",
    "version": 3
   },
   "file_extension": ".py",
   "mimetype": "text/x-python",
   "name": "python",
   "nbconvert_exporter": "python",
   "pygments_lexer": "ipython3",
   "version": "3.12.0"
  }
 },
 "nbformat": 4,
 "nbformat_minor": 2
}
